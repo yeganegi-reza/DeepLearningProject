{
 "cells": [
  {
   "cell_type": "code",
   "execution_count": 1,
   "id": "2c957eda",
   "metadata": {},
   "outputs": [
    {
     "name": "stdout",
     "output_type": "stream",
     "text": [
      "d:\\Reza\\Learning\\EndToEndDeepLearningProjectInAWS\\DeepLearningProject\n"
     ]
    }
   ],
   "source": [
    "import os\n",
    "\n",
    "# here we change the currect dir to the previous dir\n",
    "os.chdir(\"../\")\n",
    "print(os.getcwd())"
   ]
  },
  {
   "cell_type": "code",
   "execution_count": 2,
   "id": "a084cd2a",
   "metadata": {},
   "outputs": [],
   "source": [
    "from dataclasses import dataclass\n",
    "from pathlib import Path\n",
    "\n",
    "\n",
    "@dataclass(frozen=True)\n",
    "class DataIngestionConfig:\n",
    "    root_dir: Path\n",
    "    unzip_dir: Path\n",
    "    local_data_file: Path\n",
    "    data_url: str"
   ]
  },
  {
   "cell_type": "code",
   "execution_count": null,
   "id": "95b0d43b",
   "metadata": {},
   "outputs": [
    {
     "data": {
      "text/plain": [
       "DataIngestionConfig(root_dir='artifacts/data_ingestion', unzip_dir='artifacts/data_ingestion', local_data_file='artifacts/data_ingestion/data.zip', data_url='https://github.com/yeganegi-reza/Datasets/blame/main/Chicken-fecal-images.zip')"
      ]
     },
     "execution_count": 8,
     "metadata": {},
     "output_type": "execute_result"
    }
   ],
   "source": [
    "from reytools.read_write import read_yaml\n",
    "from reytools.file_system import create_directories\n",
    "from constants import CONFIG_FILE_PATH, PARAMS_FILE_PATH\n",
    "from ensure import ensure_annotations\n",
    "\n",
    "\n",
    "class ConfigurationManager:\n",
    "    @ensure_annotations\n",
    "    def __init__(\n",
    "        self,\n",
    "        config_file_path: Path = CONFIG_FILE_PATH,\n",
    "        param_file_path: Path = PARAMS_FILE_PATH,\n",
    "    ):\n",
    "        self.config = read_yaml(config_file_path)\n",
    "        self.params = read_yaml(param_file_path)\n",
    "        create_directories([self.config.artifact_root])\n",
    "\n",
    "    def get_data_ingestion_config(self) -> DataIngestionConfig:\n",
    "        config = self.config.data_ingestion\n",
    "        create_directories([config.root_dir])\n",
    "        data_ingestion_conf = DataIngestionConfig(\n",
    "            root_dir=config.root_dir,\n",
    "            unzip_dir=config.unzip_dir,\n",
    "            local_data_file=config.local_data_file,\n",
    "            data_url=config.data_url,\n",
    "        )\n",
    "        return data_ingestion_conf"
   ]
  },
  {
   "cell_type": "code",
   "execution_count": null,
   "id": "5b830417",
   "metadata": {},
   "outputs": [],
   "source": [
    "import os\n",
    "import zipfile\n",
    "import urllib.request as request\n",
    "\n",
    "from reytools.logger import logging\n",
    "from reytools.file_system import get_size\n",
    "\n",
    "\n",
    "class DataIngestion:\n",
    "    def __init__(self, config=DataIngestionConfig):\n",
    "        self.config = config\n",
    "\n",
    "    def download_file(self):\n",
    "        url = self.config.data_url\n",
    "        file_name = self.config.local_data_file\n",
    "        if not os.path.exists(self.config.local_data_file):\n",
    "            file_name, header = request.urlretrieve(url=url, filename=file_name)\n",
    "            logging.info(f\"{file_name} downloaded with following info {header}\")\n",
    "        else:\n",
    "            size_of_file = get_size(file_name)\n",
    "            logging.info(f\"file already exists in: {file_name} with size: {size_of_file}\")\n",
    "\n",
    "    def extract_zip_file():\n",
    "        pass"
   ]
  },
  {
   "cell_type": "code",
   "execution_count": null,
   "id": "d0240164",
   "metadata": {},
   "outputs": [
    {
     "ename": "NameError",
     "evalue": "name 'os' is not defined",
     "output_type": "error",
     "traceback": [
      "\u001b[31m---------------------------------------------------------------------------\u001b[39m",
      "\u001b[31mNameError\u001b[39m                                 Traceback (most recent call last)",
      "\u001b[36mCell\u001b[39m\u001b[36m \u001b[39m\u001b[32mIn[1]\u001b[39m\u001b[32m, line 1\u001b[39m\n\u001b[32m----> \u001b[39m\u001b[32m1\u001b[39m cur_dir = \u001b[43mos\u001b[49m.path.dirname(os.path.abspath(\u001b[34m__file__\u001b[39m))\n\u001b[32m      2\u001b[39m \u001b[38;5;28mprint\u001b[39m*cur_dir\n",
      "\u001b[31mNameError\u001b[39m: name 'os' is not defined"
     ]
    }
   ],
   "source": [
    "cur_dir = os.path.dirname(os.path.abspath(__file__))\n",
    "print(cur_dir)"
   ]
  },
  {
   "cell_type": "code",
   "execution_count": null,
   "id": "68d6da49",
   "metadata": {},
   "outputs": [],
   "source": [
    "conf_manager = ConfigurationManager()\n",
    "data_injestion_conf = conf_manager.get_data_ingestion_config()\n"
   ]
  }
 ],
 "metadata": {
  "kernelspec": {
   "display_name": "Python 3",
   "language": "python",
   "name": "python3"
  },
  "language_info": {
   "codemirror_mode": {
    "name": "ipython",
    "version": 3
   },
   "file_extension": ".py",
   "mimetype": "text/x-python",
   "name": "python",
   "nbconvert_exporter": "python",
   "pygments_lexer": "ipython3",
   "version": "3.11.13"
  }
 },
 "nbformat": 4,
 "nbformat_minor": 5
}
